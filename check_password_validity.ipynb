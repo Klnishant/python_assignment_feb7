{
 "cells": [
  {
   "cell_type": "code",
   "execution_count": 5,
   "id": "c32f2e16-70ab-49d4-9535-8d0e700dd33a",
   "metadata": {},
   "outputs": [
    {
     "name": "stdin",
     "output_type": "stream",
     "text": [
      "Enter the password nishant@075\n"
     ]
    },
    {
     "name": "stdout",
     "output_type": "stream",
     "text": [
      "Password is invalid\n"
     ]
    }
   ],
   "source": [
    "password = input(\"Enter the password\")\n",
    "count_num=0\n",
    "count_upper=0\n",
    "count_lower=0\n",
    "count_spl=0\n",
    "\n",
    "for i in password :\n",
    "    if i.isdigit() :\n",
    "        count_num = count_num+1\n",
    "    elif i.isupper() :\n",
    "        count_upper =count_upper+1\n",
    "    elif i.islower() :\n",
    "        count_lower = count_lower+1\n",
    "    elif not i.isalnum() :\n",
    "        count_spl =count_spl+1\n",
    "\n",
    "if count_num>=1 and count_spl>=3 and count_upper>=2 and count_lower>=2 and len(password)>=10 :\n",
    "    print(\"Password is valid\")\n",
    "else :\n",
    "    print(\"Password is invalid\")"
   ]
  },
  {
   "cell_type": "code",
   "execution_count": null,
   "id": "47c55c17-02b4-4dbe-88eb-455cecbe9d56",
   "metadata": {},
   "outputs": [],
   "source": []
  }
 ],
 "metadata": {
  "kernelspec": {
   "display_name": "Python 3 (ipykernel)",
   "language": "python",
   "name": "python3"
  },
  "language_info": {
   "codemirror_mode": {
    "name": "ipython",
    "version": 3
   },
   "file_extension": ".py",
   "mimetype": "text/x-python",
   "name": "python",
   "nbconvert_exporter": "python",
   "pygments_lexer": "ipython3",
   "version": "3.10.8"
  }
 },
 "nbformat": 4,
 "nbformat_minor": 5
}
