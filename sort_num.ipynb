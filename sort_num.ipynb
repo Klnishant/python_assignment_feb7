{
 "cells": [
  {
   "cell_type": "code",
   "execution_count": 10,
   "id": "98797a74-b73e-4af0-ae90-7ea1022280ac",
   "metadata": {},
   "outputs": [
    {
     "name": "stdout",
     "output_type": "stream",
     "text": [
      "Positive number :  [1, 2, 3, 4, 5, 6, 0]\n",
      "Negetive number :  [-1, -2, -3, -4, -5]\n"
     ]
    }
   ],
   "source": [
    "l = [1,2,3,4,5,6,-1,-2,-3,-4,-5,0]\n",
    "\n",
    "positive_num = list(filter(lambda x : x>=0,l))\n",
    "negetive_num = list(filter(lambda x : x<0,l))\n",
    "print(\"Positive number : \",positive_num)\n",
    "print(\"Negetive number : \",negetive_num)"
   ]
  },
  {
   "cell_type": "code",
   "execution_count": null,
   "id": "9044ef3c-8971-4c9d-937c-3f9aaf1d56ce",
   "metadata": {},
   "outputs": [],
   "source": []
  }
 ],
 "metadata": {
  "kernelspec": {
   "display_name": "Python 3 (ipykernel)",
   "language": "python",
   "name": "python3"
  },
  "language_info": {
   "codemirror_mode": {
    "name": "ipython",
    "version": 3
   },
   "file_extension": ".py",
   "mimetype": "text/x-python",
   "name": "python",
   "nbconvert_exporter": "python",
   "pygments_lexer": "ipython3",
   "version": "3.10.8"
  }
 },
 "nbformat": 4,
 "nbformat_minor": 5
}
