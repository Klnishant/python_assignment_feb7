{
 "cells": [
  {
   "cell_type": "code",
   "execution_count": 18,
   "id": "d90d0e1b-c2ca-44d9-816c-120573465c74",
   "metadata": {},
   "outputs": [
    {
     "name": "stdin",
     "output_type": "stream",
     "text": [
      "Enter the string nishant\n",
      "Enter the character k\n"
     ]
    },
    {
     "name": "stdout",
     "output_type": "stream",
     "text": [
      "Entered string not started with k\n"
     ]
    }
   ],
   "source": [
    "string = input(\"Enter the string\")\n",
    "character = input(\"Enter the character\")\n",
    "check = lambda x,y : x.startswith(y)\n",
    "if check(string,character)==True :\n",
    "    print(\"Entered string started with\",character)\n",
    "else :\n",
    "    print(\"Entered string not started with\",character)"
   ]
  },
  {
   "cell_type": "code",
   "execution_count": null,
   "id": "927768ef-cc61-4a92-a999-407499a3fd42",
   "metadata": {},
   "outputs": [],
   "source": []
  }
 ],
 "metadata": {
  "kernelspec": {
   "display_name": "Python 3 (ipykernel)",
   "language": "python",
   "name": "python3"
  },
  "language_info": {
   "codemirror_mode": {
    "name": "ipython",
    "version": 3
   },
   "file_extension": ".py",
   "mimetype": "text/x-python",
   "name": "python",
   "nbconvert_exporter": "python",
   "pygments_lexer": "ipython3",
   "version": "3.10.8"
  }
 },
 "nbformat": 4,
 "nbformat_minor": 5
}
