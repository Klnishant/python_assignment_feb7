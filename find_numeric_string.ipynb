{
 "cells": [
  {
   "cell_type": "code",
   "execution_count": 14,
   "id": "0ba2f9f8-6d55-4e10-b828-bc21f35a3fed",
   "metadata": {},
   "outputs": [
    {
     "name": "stdin",
     "output_type": "stream",
     "text": [
      "Enter the string mfhb\n"
     ]
    },
    {
     "name": "stdout",
     "output_type": "stream",
     "text": [
      "Enterd string is not numeric\n"
     ]
    }
   ],
   "source": [
    "string = input(\"Enter the string\")\n",
    "is_numeric = lambda x : x.isdigit()\n",
    "if is_numeric(string) == True :\n",
    "    print(\"Enterd string is numeric\")\n",
    "else :\n",
    "    print(\"Enterd string is not numeric\")"
   ]
  },
  {
   "cell_type": "code",
   "execution_count": null,
   "id": "feccbdf6-f1e8-405e-8459-5f1531955cd8",
   "metadata": {},
   "outputs": [],
   "source": []
  }
 ],
 "metadata": {
  "kernelspec": {
   "display_name": "Python 3 (ipykernel)",
   "language": "python",
   "name": "python3"
  },
  "language_info": {
   "codemirror_mode": {
    "name": "ipython",
    "version": 3
   },
   "file_extension": ".py",
   "mimetype": "text/x-python",
   "name": "python",
   "nbconvert_exporter": "python",
   "pygments_lexer": "ipython3",
   "version": "3.10.8"
  }
 },
 "nbformat": 4,
 "nbformat_minor": 5
}
